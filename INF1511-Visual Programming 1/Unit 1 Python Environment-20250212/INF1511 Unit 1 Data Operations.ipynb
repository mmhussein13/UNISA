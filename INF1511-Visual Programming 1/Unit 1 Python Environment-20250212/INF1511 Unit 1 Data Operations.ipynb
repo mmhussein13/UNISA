{
 "cells": [
  {
   "cell_type": "markdown",
   "metadata": {},
   "source": [
    "## 2023 Unit 1 Numbers and number operations\n"
   ]
  },
  {
   "cell_type": "code",
   "execution_count": null,
   "metadata": {},
   "outputs": [],
   "source": [
    "print('Hello World!')\n",
    "#write a program that stores a number in a variable, and then print the number\n",
    "#write a program that adds two numbers that are stored in variables.\n",
    "#write a program that asks for your favourite number and prints result.  \n",
    "#Modify program to add the number to itself and show result.\n",
    "#remember input, process and output"
   ]
  },
  {
   "cell_type": "code",
   "execution_count": null,
   "metadata": {},
   "outputs": [],
   "source": [
    "#this code will add two numbers\n",
    "#input\n",
    "num_1=345\n",
    "num_2=987\n",
    "#processing\n",
    "total=num_1+num_2\n",
    "#output\n",
    "print('Numbers: ', num_1, num_2)\n",
    "print('Total: :', total)"
   ]
  },
  {
   "cell_type": "markdown",
   "metadata": {},
   "source": [
    "## Problem: Add two numbers and show the result"
   ]
  },
  {
   "cell_type": "code",
   "execution_count": null,
   "metadata": {},
   "outputs": [],
   "source": [
    "#adding a comment would help\n",
    "#input\n",
    "my_tax=12354.45\n",
    "your_tax=99.87\n",
    "#processing\n",
    "total=my_tax+your_tax\n",
    "#output\n",
    "print('Total :', total)"
   ]
  },
  {
   "cell_type": "markdown",
   "metadata": {},
   "source": [
    "## Ask for input and show output and add comments (integers and floats)"
   ]
  },
  {
   "cell_type": "code",
   "execution_count": null,
   "metadata": {},
   "outputs": [],
   "source": [
    "#this program add the number of masks\n",
    "#input\n",
    "num_1=float(input('Please a first number: '))\n",
    "num_2=float(input('Please a second number: '))\n",
    "#processing\n",
    "total=num_1+num_2\n",
    "#output\n",
    "print('Total :', total)"
   ]
  },
  {
   "cell_type": "markdown",
   "metadata": {},
   "source": [
    "## A problem that is more detailed, with comments, input, process and output"
   ]
  },
  {
   "cell_type": "code",
   "execution_count": null,
   "metadata": {},
   "outputs": [],
   "source": [
    "#This is comment\n",
    "num_1=int(input('Please enter the number of learners in Grade 1 : '))\n",
    "num_2=int(input('Please enter the number of learners in Grade 2 : '))\n",
    "#this is the processing\n",
    "total= num_1+num_2\n",
    "#this is the output\n",
    "print('Total learners : ', total)"
   ]
  },
  {
   "cell_type": "markdown",
   "metadata": {},
   "source": [
    "## Changing from adding to other operations (meaningful names)"
   ]
  },
  {
   "cell_type": "code",
   "execution_count": null,
   "metadata": {},
   "outputs": [],
   "source": [
    "#How many pencils does each learner receive?\n",
    "#This is the input\n",
    "pencils=int(input('Please enter the number of pencils issued to the school : '))\n",
    "learners=int(input('Please enter the number of learners in the school: '))\n",
    "#this is the processing\n",
    "each=pencils//learners\n",
    "remain=pencils%learners\n",
    "#this is the output\n",
    "print('Pencils per learner :', each)\n",
    "print('Remainder :', remain)"
   ]
  },
  {
   "cell_type": "markdown",
   "metadata": {},
   "source": [
    "## Changing multiple. Change the data type?"
   ]
  },
  {
   "cell_type": "code",
   "execution_count": null,
   "metadata": {},
   "outputs": [],
   "source": [
    "#calculate the area of a rectangle\n",
    "#input\n",
    "length=int(input('Please enter the length of the rectangle: '))\n",
    "breadth=float(input('Please enter the breadth of the rectangle: '))\n",
    "#process\n",
    "area=length*breadth\n",
    "#output\n",
    "print('The area in square meters is:', area)"
   ]
  },
  {
   "cell_type": "code",
   "execution_count": null,
   "metadata": {},
   "outputs": [],
   "source": [
    "#calcuate the area of a triangle.\n",
    "#ask the user for input values\n",
    "#input\n",
    "base=int(input('Please enter the base length (m): '))\n",
    "height=int(input('Please enter the height (m): '))\n",
    "#processing\n",
    "area=0.5*base*height\n",
    "#output\n",
    "print('Area is (in square meters) : ', area)"
   ]
  },
  {
   "cell_type": "markdown",
   "metadata": {},
   "source": [
    "## Add the marks that you received for 4 assignments, and calcuate the average value\n"
   ]
  },
  {
   "cell_type": "code",
   "execution_count": null,
   "metadata": {},
   "outputs": [],
   "source": []
  },
  {
   "cell_type": "markdown",
   "metadata": {},
   "source": [
    "## Using a number to a power"
   ]
  },
  {
   "cell_type": "code",
   "execution_count": null,
   "metadata": {},
   "outputs": [],
   "source": [
    "a=2\n",
    "b=5\n",
    "thepower=a**b\n",
    "print(thepower)"
   ]
  },
  {
   "cell_type": "markdown",
   "metadata": {},
   "source": [
    "## Use the radius of a wheel to calcuate the circumference of the wheel\n"
   ]
  },
  {
   "cell_type": "code",
   "execution_count": null,
   "metadata": {},
   "outputs": [],
   "source": [
    "\n"
   ]
  },
  {
   "cell_type": "markdown",
   "metadata": {},
   "source": [
    "## Calculate the speed. Ask for user input in km and hours.  Format the output in km/h to two decimal values."
   ]
  },
  {
   "cell_type": "code",
   "execution_count": null,
   "metadata": {},
   "outputs": [],
   "source": [
    "\n"
   ]
  },
  {
   "cell_type": "markdown",
   "metadata": {},
   "source": [
    "## Determine the data type of a variable. Ask for user input for integer, float and string."
   ]
  },
  {
   "cell_type": "code",
   "execution_count": null,
   "metadata": {},
   "outputs": [],
   "source": [
    "a='21.90'\n",
    "print(type(a))"
   ]
  },
  {
   "cell_type": "code",
   "execution_count": null,
   "metadata": {},
   "outputs": [],
   "source": []
  }
 ],
 "metadata": {
  "kernelspec": {
   "display_name": "Python 3",
   "language": "python",
   "name": "python3"
  },
  "language_info": {
   "codemirror_mode": {
    "name": "ipython",
    "version": 3
   },
   "file_extension": ".py",
   "mimetype": "text/x-python",
   "name": "python",
   "nbconvert_exporter": "python",
   "pygments_lexer": "ipython3",
   "version": "3.7.4"
  }
 },
 "nbformat": 4,
 "nbformat_minor": 2
}
